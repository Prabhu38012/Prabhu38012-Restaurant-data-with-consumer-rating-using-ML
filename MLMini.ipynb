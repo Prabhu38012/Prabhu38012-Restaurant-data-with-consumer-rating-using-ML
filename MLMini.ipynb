{
  "nbformat": 4,
  "nbformat_minor": 0,
  "metadata": {
    "colab": {
      "provenance": []
    },
    "kernelspec": {
      "name": "python3",
      "display_name": "Python 3"
    },
    "language_info": {
      "name": "python"
    }
  },
  "cells": [
    {
      "cell_type": "code",
      "source": [
        "import numpy as np\n",
        "import pandas as pd\n",
        "\n",
        "import matplotlib.pyplot as plt\n",
        "import seaborn as sns\n",
        "\n",
        "from sklearn.model_selection import train_test_split, GridSearchCV\n",
        "from sklearn.ensemble import RandomForestClassifier\n",
        "from sklearn.tree import DecisionTreeClassifier\n",
        "from sklearn.neighbors import KNeighborsClassifier\n",
        "from sklearn.linear_model import LogisticRegression\n",
        "from sklearn.naive_bayes import GaussianNB\n",
        "from sklearn.metrics import accuracy_score, classification_report, confusion_matrix\n"
      ],
      "metadata": {
        "id": "enSTHZctj-oF"
      },
      "execution_count": null,
      "outputs": []
    },
    {
      "cell_type": "code",
      "source": [
        "from numbers import Rational\n",
        "# Load the dataset\n",
        "data = pd.read_csv(\"/content/merged_output.csv\")\n",
        "rating=pd.read_csv(\"/content/rating_final.csv\")\n",
        "user_profile=pd.read_csv(\"/content/userprofile.csv\")\n",
        "user_cuisine=pd.read_csv(\"/content/usercuisine.csv\")\n",
        "geo=pd.read_csv(\"/content/geoplaces2.csv\")\n",
        "data.head()\n",
        "data.info()\n"
      ],
      "metadata": {
        "id": "53EfyZQwkB-k"
      },
      "execution_count": null,
      "outputs": []
    },
    {
      "cell_type": "code",
      "source": [
        "\n",
        "y = data['rating']\n"
      ],
      "metadata": {
        "id": "SF1iod2CkbYn"
      },
      "execution_count": null,
      "outputs": []
    },
    {
      "cell_type": "code",
      "source": [
        "# Select relevant features\n",
        "X = data[['food_rating', 'service_rating', 'alcohol', 'smoking_area', 'price', 'Rambience', 'franchise', 'area']]\n"
      ],
      "metadata": {
        "id": "Kbh1SGzFklo2"
      },
      "execution_count": null,
      "outputs": []
    },
    {
      "cell_type": "code",
      "source": [
        "# Convert categorical columns to dummy variables\n",
        "X = pd.get_dummies(X, columns=['alcohol', 'smoking_area', 'price', 'Rambience', 'franchise', 'area'], drop_first=True)\n"
      ],
      "metadata": {
        "id": "xzZZdw4DlW92"
      },
      "execution_count": null,
      "outputs": []
    },
    {
      "cell_type": "code",
      "source": [
        "from sklearn.preprocessing import StandardScaler\n",
        "\n",
        "# Initialize the scaler\n",
        "scaler = StandardScaler()\n",
        "\n",
        "# Scale numerical columns, e.g., 'food_rating' and 'service_rating'\n",
        "X[['food_rating', 'service_rating']] = scaler.fit_transform(X[['food_rating', 'service_rating']])\n"
      ],
      "metadata": {
        "id": "iI2uCHRGldwg"
      },
      "execution_count": null,
      "outputs": []
    },
    {
      "cell_type": "code",
      "source": [
        "X_train, X_test, y_train, y_test = train_test_split(X, y, test_size=0.2, random_state=42)\n"
      ],
      "metadata": {
        "id": "dBId8k3llrnL"
      },
      "execution_count": null,
      "outputs": []
    },
    {
      "cell_type": "code",
      "source": [
        "# Import necessary libraries\n",
        "from sklearn.model_selection import train_test_split\n",
        "from sklearn.preprocessing import LabelEncoder\n",
        "import pandas as pd\n",
        "\n",
        "# Assuming 'rating', 'user_profile', 'user_cuisine', and 'geo' are preloaded dataframes\n",
        "\n",
        "# Step 1: Merge dataframes on relevant keys\n",
        "merged_df = pd.merge(rating, user_profile, on='userID', how='inner')\n",
        "merged_df = pd.merge(merged_df, user_cuisine, on='userID', how='inner')\n",
        "merged_df = pd.merge(merged_df, geo, on='placeID', how='inner')\n",
        "\n",
        "# Step 2: Define features (X) and target variable (y)\n",
        "X = merged_df[['userID', 'placeID']]\n",
        "y = merged_df['rating']\n",
        "\n",
        "# Step 3: Apply Label Encoding to categorical features in X\n",
        "le = LabelEncoder()\n",
        "X['userID'] = le.fit_transform(X['userID'])\n",
        "X['placeID'] = le.fit_transform(X['placeID'])\n",
        "\n",
        "# Step 4: Split the data into training and testing sets\n",
        "X_train, X_test, y_train, y_test = train_test_split(X, y, test_size=0.2, random_state=42)\n",
        "\n",
        "# Step 5: Print the shapes of the train and test sets\n",
        "print(\"X_train shape:\", X_train.shape)\n",
        "print(\"X_test shape:\", X_test.shape)\n",
        "print(\"y_train shape:\", y_train.shape)\n",
        "print(\"y_test shape:\", y_test.shape)\n"
      ],
      "metadata": {
        "colab": {
          "base_uri": "https://localhost:8080/"
        },
        "id": "YQUlEtmUqUGJ",
        "outputId": "035fdeb4-33df-4d9e-f4d3-898ddc302833"
      },
      "execution_count": null,
      "outputs": [
        {
          "output_type": "stream",
          "name": "stdout",
          "text": [
            "X_train shape: (2735, 2)\n",
            "X_test shape: (684, 2)\n",
            "y_train shape: (2735,)\n",
            "y_test shape: (684,)\n"
          ]
        },
        {
          "output_type": "stream",
          "name": "stderr",
          "text": [
            "<ipython-input-9-1ed42eb26693>:19: SettingWithCopyWarning: \n",
            "A value is trying to be set on a copy of a slice from a DataFrame.\n",
            "Try using .loc[row_indexer,col_indexer] = value instead\n",
            "\n",
            "See the caveats in the documentation: https://pandas.pydata.org/pandas-docs/stable/user_guide/indexing.html#returning-a-view-versus-a-copy\n",
            "  X['userID'] = le.fit_transform(X['userID'])\n",
            "<ipython-input-9-1ed42eb26693>:20: SettingWithCopyWarning: \n",
            "A value is trying to be set on a copy of a slice from a DataFrame.\n",
            "Try using .loc[row_indexer,col_indexer] = value instead\n",
            "\n",
            "See the caveats in the documentation: https://pandas.pydata.org/pandas-docs/stable/user_guide/indexing.html#returning-a-view-versus-a-copy\n",
            "  X['placeID'] = le.fit_transform(X['placeID'])\n"
          ]
        }
      ]
    },
    {
      "cell_type": "code",
      "source": [
        "from sklearn.tree import DecisionTreeClassifier # Import DecisionTreeClassifier\n",
        "from sklearn.model_selection import GridSearchCV\n",
        "from sklearn.metrics import accuracy_score, classification_report, confusion_matrix"
      ],
      "metadata": {
        "id": "JHNBFJjuqZC_"
      },
      "execution_count": null,
      "outputs": []
    },
    {
      "cell_type": "code",
      "source": [
        "model_dt = DecisionTreeClassifier(random_state=42)\n",
        "param_grid_dt = {\n",
        "    'criterion': ['gini', 'entropy'],\n",
        "    'max_depth': [None, 5, 10, 15],\n",
        "    'min_samples_split': [2, 5, 10],\n",
        "    'min_samples_leaf': [1, 2, 4],\n",
        "}\n",
        "\n",
        "grid_search_dt = GridSearchCV(estimator=model_dt, param_grid=param_grid_dt, cv=5, scoring='accuracy')\n",
        "grid_search_dt.fit(X_train, y_train)\n",
        "best_model_dt = grid_search_dt.best_estimator_\n",
        "\n",
        "y_pred_dt = best_model_dt.predict(X_test)\n",
        "accuracy_dt = accuracy_score(y_test, y_pred_dt)\n",
        "\n",
        "print(f\"Accuracy for Decision Tree: {accuracy_dt * 100:.2f}%\")\n",
        "print(classification_report(y_test, y_pred_dt))\n",
        "print(confusion_matrix(y_test, y_pred_dt))\n",
        "\n"
      ],
      "metadata": {
        "colab": {
          "base_uri": "https://localhost:8080/"
        },
        "id": "yZZq8M-DrRJU",
        "outputId": "1db7add9-2544-47a3-b454-e772537ff7e7"
      },
      "execution_count": null,
      "outputs": [
        {
          "output_type": "stream",
          "name": "stdout",
          "text": [
            "Accuracy for Decision Tree: 83.63%\n",
            "              precision    recall  f1-score   support\n",
            "\n",
            "           0       0.94      0.91      0.93       346\n",
            "           1       0.71      0.73      0.72       153\n",
            "           2       0.76      0.78      0.77       185\n",
            "\n",
            "    accuracy                           0.84       684\n",
            "   macro avg       0.80      0.81      0.81       684\n",
            "weighted avg       0.84      0.84      0.84       684\n",
            "\n",
            "[[315  17  14]\n",
            " [  8 112  33]\n",
            " [ 12  28 145]]\n"
          ]
        }
      ]
    },
    {
      "cell_type": "code",
      "source": [
        "# Random forest accuarcy\n",
        "\n",
        "# Create and train the Random Forest model\n",
        "rf_model = RandomForestClassifier(random_state=42)\n",
        "rf_model.fit(X_train, y_train)\n",
        "\n",
        "# Make predictions on the test set\n",
        "y_pred_rf = rf_model.predict(X_test)\n",
        "\n",
        "# Evaluate the model\n",
        "accuracy_rf = accuracy_score(y_test, y_pred_rf)\n",
        "\n",
        "print(f\"Accuracy for Random Forest: {accuracy_rf * 100:.2f}%\")\n",
        "print(classification_report(y_test, y_pred_rf))\n",
        "print(confusion_matrix(y_test, y_pred_rf))"
      ],
      "metadata": {
        "colab": {
          "base_uri": "https://localhost:8080/"
        },
        "id": "kZ8G49mBrbqy",
        "outputId": "c43f00e3-5601-4478-cdc8-0f77378793de"
      },
      "execution_count": null,
      "outputs": [
        {
          "output_type": "stream",
          "name": "stdout",
          "text": [
            "Accuracy for Random Forest: 82.89%\n",
            "              precision    recall  f1-score   support\n",
            "\n",
            "           0       0.94      0.89      0.91       346\n",
            "           1       0.73      0.72      0.72       153\n",
            "           2       0.73      0.81      0.77       185\n",
            "\n",
            "    accuracy                           0.83       684\n",
            "   macro avg       0.80      0.80      0.80       684\n",
            "weighted avg       0.83      0.83      0.83       684\n",
            "\n",
            "[[308  14  24]\n",
            " [ 12 110  31]\n",
            " [  9  27 149]]\n"
          ]
        }
      ]
    },
    {
      "cell_type": "code",
      "source": [
        "\n",
        "knn_model = KNeighborsClassifier()\n",
        "knn_model.fit(X_train, y_train)\n",
        "\n",
        "# Make predictions on the test set\n",
        "y_pred_knn = knn_model.predict(X_test)\n",
        "\n",
        "# Evaluate the model\n",
        "accuracy_knn = accuracy_score(y_test, y_pred_knn)\n",
        "\n",
        "print(f\"Accuracy for KNN: {accuracy_knn * 100:.2f}%\")\n",
        "print(classification_report(y_test, y_pred_knn))\n",
        "print(confusion_matrix(y_test, y_pred_knn))"
      ],
      "metadata": {
        "colab": {
          "base_uri": "https://localhost:8080/"
        },
        "id": "MahXR8KirkRT",
        "outputId": "8be5b95d-0630-49a6-b139-46caa6262ba9"
      },
      "execution_count": null,
      "outputs": [
        {
          "output_type": "stream",
          "name": "stdout",
          "text": [
            "Accuracy for KNN: 81.58%\n",
            "              precision    recall  f1-score   support\n",
            "\n",
            "           0       0.88      0.90      0.89       346\n",
            "           1       0.73      0.75      0.74       153\n",
            "           2       0.76      0.72      0.74       185\n",
            "\n",
            "    accuracy                           0.82       684\n",
            "   macro avg       0.79      0.79      0.79       684\n",
            "weighted avg       0.81      0.82      0.82       684\n",
            "\n",
            "[[311  16  19]\n",
            " [ 16 114  23]\n",
            " [ 25  27 133]]\n"
          ]
        }
      ]
    },
    {
      "cell_type": "code",
      "source": [
        "\n",
        "\n",
        "# Import necessary libraries\n",
        "from sklearn.linear_model import LogisticRegression\n",
        "from sklearn.metrics import accuracy_score, classification_report, confusion_matrix\n",
        "from sklearn.preprocessing import StandardScaler, OneHotEncoder\n",
        "from sklearn.compose import ColumnTransformer\n",
        "from sklearn.pipeline import Pipeline\n",
        "from sklearn.model_selection import GridSearchCV, train_test_split # Import train_test_split\n",
        "\n",
        "# Step 1: Define feature and target columns\n",
        "X = merged_df[['userID', 'placeID', 'food_rating', 'service_rating', 'alcohol', 'smoking_area', 'price']]\n",
        "y = merged_df['rating']\n",
        "\n",
        "# Step 2: Split data into training and testing sets BEFORE preprocessing\n",
        "# This ensures the OneHotEncoder is fit on all categories present in both sets\n",
        "X_train, X_test, y_train, y_test = train_test_split(X, y, test_size=0.2, random_state=42)\n",
        "\n",
        "# Step 3: Preprocess features - OneHotEncoding for categorical, scaling for numerical\n",
        "preprocessor = ColumnTransformer(\n",
        "    transformers=[\n",
        "        ('num', StandardScaler(), ['food_rating', 'service_rating']),\n",
        "        ('cat', OneHotEncoder(handle_unknown='ignore', drop='first'), ['userID', 'placeID', 'alcohol', 'smoking_area', 'price'])\n",
        "    ])\n",
        "\n",
        "# Step 4: Set up Logistic Regression in a Pipeline with preprocessing\n",
        "pipeline = Pipeline([\n",
        "    ('preprocessor', preprocessor),\n",
        "    ('classifier', LogisticRegression(max_iter=1000, random_state=42))\n",
        "])\n",
        "\n",
        "# Step 5: Set up Grid Search for Hyperparameter Tuning\n",
        "param_grid = {\n",
        "    'classifier__C': [0.1, 1, 10, 100],  # Regularization strength\n",
        "    'classifier__solver': ['liblinear', 'lbfgs'],  # Solver options\n",
        "}\n",
        "grid_search = GridSearchCV(pipeline, param_grid, cv=5, scoring='accuracy')\n",
        "\n",
        "# Step 6: Fit the model with Grid Search\n",
        "grid_search.fit(X_train, y_train)\n",
        "\n",
        "# Step 7: Evaluate the tuned model on test data\n",
        "best_model = grid_search.best_estimator_\n",
        "y_pred = best_model.predict(X_test)\n",
        "accuracy = accuracy_score(y_test, y_pred)\n",
        "\n",
        "print(f\"Logistic Regression Model Accuracy: {accuracy * 100:.2f}%\")\n",
        "print(\"Classification Report:\\n\", classification_report(y_test, y_pred))\n",
        "print(\"Confusion Matrix:\\n\", confusion_matrix(y_test, y_pred))"
      ],
      "metadata": {
        "colab": {
          "base_uri": "https://localhost:8080/"
        },
        "id": "9Z5wlqddro2w",
        "outputId": "705d88b2-8ff2-4719-90b3-985d5b1834ca"
      },
      "execution_count": null,
      "outputs": [
        {
          "output_type": "stream",
          "name": "stderr",
          "text": [
            "/usr/local/lib/python3.10/dist-packages/sklearn/preprocessing/_encoders.py:242: UserWarning: Found unknown categories in columns [1] during transform. These unknown categories will be encoded as all zeros\n",
            "  warnings.warn(\n",
            "/usr/local/lib/python3.10/dist-packages/sklearn/preprocessing/_encoders.py:242: UserWarning: Found unknown categories in columns [0] during transform. These unknown categories will be encoded as all zeros\n",
            "  warnings.warn(\n",
            "/usr/local/lib/python3.10/dist-packages/sklearn/preprocessing/_encoders.py:242: UserWarning: Found unknown categories in columns [1] during transform. These unknown categories will be encoded as all zeros\n",
            "  warnings.warn(\n",
            "/usr/local/lib/python3.10/dist-packages/sklearn/preprocessing/_encoders.py:242: UserWarning: Found unknown categories in columns [1] during transform. These unknown categories will be encoded as all zeros\n",
            "  warnings.warn(\n",
            "/usr/local/lib/python3.10/dist-packages/sklearn/preprocessing/_encoders.py:242: UserWarning: Found unknown categories in columns [0] during transform. These unknown categories will be encoded as all zeros\n",
            "  warnings.warn(\n",
            "/usr/local/lib/python3.10/dist-packages/sklearn/preprocessing/_encoders.py:242: UserWarning: Found unknown categories in columns [1] during transform. These unknown categories will be encoded as all zeros\n",
            "  warnings.warn(\n",
            "/usr/local/lib/python3.10/dist-packages/sklearn/preprocessing/_encoders.py:242: UserWarning: Found unknown categories in columns [1] during transform. These unknown categories will be encoded as all zeros\n",
            "  warnings.warn(\n",
            "/usr/local/lib/python3.10/dist-packages/sklearn/preprocessing/_encoders.py:242: UserWarning: Found unknown categories in columns [0] during transform. These unknown categories will be encoded as all zeros\n",
            "  warnings.warn(\n",
            "/usr/local/lib/python3.10/dist-packages/sklearn/preprocessing/_encoders.py:242: UserWarning: Found unknown categories in columns [1] during transform. These unknown categories will be encoded as all zeros\n",
            "  warnings.warn(\n",
            "/usr/local/lib/python3.10/dist-packages/sklearn/preprocessing/_encoders.py:242: UserWarning: Found unknown categories in columns [1] during transform. These unknown categories will be encoded as all zeros\n",
            "  warnings.warn(\n",
            "/usr/local/lib/python3.10/dist-packages/sklearn/preprocessing/_encoders.py:242: UserWarning: Found unknown categories in columns [0] during transform. These unknown categories will be encoded as all zeros\n",
            "  warnings.warn(\n",
            "/usr/local/lib/python3.10/dist-packages/sklearn/preprocessing/_encoders.py:242: UserWarning: Found unknown categories in columns [1] during transform. These unknown categories will be encoded as all zeros\n",
            "  warnings.warn(\n",
            "/usr/local/lib/python3.10/dist-packages/sklearn/preprocessing/_encoders.py:242: UserWarning: Found unknown categories in columns [1] during transform. These unknown categories will be encoded as all zeros\n",
            "  warnings.warn(\n",
            "/usr/local/lib/python3.10/dist-packages/sklearn/preprocessing/_encoders.py:242: UserWarning: Found unknown categories in columns [0] during transform. These unknown categories will be encoded as all zeros\n",
            "  warnings.warn(\n",
            "/usr/local/lib/python3.10/dist-packages/sklearn/preprocessing/_encoders.py:242: UserWarning: Found unknown categories in columns [1] during transform. These unknown categories will be encoded as all zeros\n",
            "  warnings.warn(\n",
            "/usr/local/lib/python3.10/dist-packages/sklearn/preprocessing/_encoders.py:242: UserWarning: Found unknown categories in columns [1] during transform. These unknown categories will be encoded as all zeros\n",
            "  warnings.warn(\n",
            "/usr/local/lib/python3.10/dist-packages/sklearn/preprocessing/_encoders.py:242: UserWarning: Found unknown categories in columns [0] during transform. These unknown categories will be encoded as all zeros\n",
            "  warnings.warn(\n",
            "/usr/local/lib/python3.10/dist-packages/sklearn/preprocessing/_encoders.py:242: UserWarning: Found unknown categories in columns [1] during transform. These unknown categories will be encoded as all zeros\n",
            "  warnings.warn(\n",
            "/usr/local/lib/python3.10/dist-packages/sklearn/preprocessing/_encoders.py:242: UserWarning: Found unknown categories in columns [1] during transform. These unknown categories will be encoded as all zeros\n",
            "  warnings.warn(\n",
            "/usr/local/lib/python3.10/dist-packages/sklearn/preprocessing/_encoders.py:242: UserWarning: Found unknown categories in columns [0] during transform. These unknown categories will be encoded as all zeros\n",
            "  warnings.warn(\n",
            "/usr/local/lib/python3.10/dist-packages/sklearn/preprocessing/_encoders.py:242: UserWarning: Found unknown categories in columns [1] during transform. These unknown categories will be encoded as all zeros\n",
            "  warnings.warn(\n",
            "/usr/local/lib/python3.10/dist-packages/sklearn/preprocessing/_encoders.py:242: UserWarning: Found unknown categories in columns [1] during transform. These unknown categories will be encoded as all zeros\n",
            "  warnings.warn(\n",
            "/usr/local/lib/python3.10/dist-packages/sklearn/preprocessing/_encoders.py:242: UserWarning: Found unknown categories in columns [0] during transform. These unknown categories will be encoded as all zeros\n",
            "  warnings.warn(\n"
          ]
        },
        {
          "output_type": "stream",
          "name": "stdout",
          "text": [
            "Logistic Regression Model Accuracy: 89.77%\n",
            "Classification Report:\n",
            "               precision    recall  f1-score   support\n",
            "\n",
            "           0       0.97      0.97      0.97       346\n",
            "           1       0.81      0.73      0.77       153\n",
            "           2       0.83      0.91      0.87       185\n",
            "\n",
            "    accuracy                           0.90       684\n",
            "   macro avg       0.87      0.87      0.87       684\n",
            "weighted avg       0.90      0.90      0.90       684\n",
            "\n",
            "Confusion Matrix:\n",
            " [[334  10   2]\n",
            " [  8 112  33]\n",
            " [  1  16 168]]\n"
          ]
        },
        {
          "output_type": "stream",
          "name": "stderr",
          "text": [
            "/usr/local/lib/python3.10/dist-packages/sklearn/preprocessing/_encoders.py:242: UserWarning: Found unknown categories in columns [1] during transform. These unknown categories will be encoded as all zeros\n",
            "  warnings.warn(\n",
            "/usr/local/lib/python3.10/dist-packages/sklearn/preprocessing/_encoders.py:242: UserWarning: Found unknown categories in columns [0] during transform. These unknown categories will be encoded as all zeros\n",
            "  warnings.warn(\n"
          ]
        }
      ]
    },
    {
      "cell_type": "code",
      "source": [
        "# Import GaussianNB and other required modules\n",
        "from sklearn.naive_bayes import GaussianNB\n",
        "from sklearn.metrics import accuracy_score, classification_report, confusion_matrix\n",
        "from sklearn.preprocessing import OneHotEncoder\n",
        "from sklearn.compose import ColumnTransformer\n",
        "from sklearn.pipeline import Pipeline\n",
        "from sklearn.model_selection import train_test_split # Make sure train_test_split is imported\n",
        "\n",
        "# Step 1: Define features and target variable\n",
        "X = merged_df[['userID', 'placeID', 'food_rating', 'service_rating', 'alcohol', 'smoking_area', 'price']]\n",
        "y = merged_df['rating']\n",
        "\n",
        "preprocessor = ColumnTransformer(\n",
        "    transformers=[\n",
        "        ('cat', OneHotEncoder(drop='first', sparse_output=False, handle_unknown='ignore'), ['userID', 'placeID', 'alcohol', 'smoking_area', 'price']) # Set sparse_output=False and handle_unknown='ignore'\n",
        "    ], remainder='passthrough')  # Pass through numerical columns directly without scaling\n",
        "\n",
        "# Step 3: Create pipeline with preprocessing and Gaussian Naive Bayes\n",
        "pipeline = Pipeline([\n",
        "    ('preprocessor', preprocessor),\n",
        "    ('classifier', GaussianNB())\n",
        "])\n",
        "\n",
        "# Step 4: Split the data into training and testing sets\n",
        "X_train, X_test, y_train, y_test = train_test_split(X, y, test_size=0.2, random_state=42)\n",
        "\n",
        "# Step 5: Train the model\n",
        "pipeline.fit(X_train, y_train)\n",
        "\n",
        "# Step 6: Make predictions on the test set\n",
        "y_pred = pipeline.predict(X_test)\n",
        "\n",
        "# Step 7: Evaluate the model's performance\n",
        "accuracy_nb = accuracy_score(y_test, y_pred)\n",
        "print(f\"Accuracy for Gaussian Naive Bayes: {accuracy_nb * 100:.2f}%\")\n",
        "print(\"Classification Report:\\n\", classification_report(y_test, y_pred))\n",
        "print(\"Confusion Matrix:\\n\", confusion_matrix(y_test, y_pred))"
      ],
      "metadata": {
        "colab": {
          "base_uri": "https://localhost:8080/"
        },
        "id": "4SdQ-9_StDai",
        "outputId": "8f7c93f0-364d-4746-8799-3594c0042235"
      },
      "execution_count": null,
      "outputs": [
        {
          "output_type": "stream",
          "name": "stdout",
          "text": [
            "Accuracy for Gaussian Naive Bayes: 78.51%\n",
            "Classification Report:\n",
            "               precision    recall  f1-score   support\n",
            "\n",
            "           0       0.85      0.93      0.89       346\n",
            "           1       0.70      0.51      0.59       153\n",
            "           2       0.72      0.74      0.73       185\n",
            "\n",
            "    accuracy                           0.79       684\n",
            "   macro avg       0.75      0.73      0.73       684\n",
            "weighted avg       0.78      0.79      0.78       684\n",
            "\n",
            "Confusion Matrix:\n",
            " [[323  14   9]\n",
            " [ 30  78  45]\n",
            " [ 29  20 136]]\n"
          ]
        },
        {
          "output_type": "stream",
          "name": "stderr",
          "text": [
            "/usr/local/lib/python3.10/dist-packages/sklearn/preprocessing/_encoders.py:242: UserWarning: Found unknown categories in columns [0] during transform. These unknown categories will be encoded as all zeros\n",
            "  warnings.warn(\n"
          ]
        }
      ]
    },
    {
      "cell_type": "code",
      "source": [
        "\n",
        "\n",
        "print(f\"Accuracy for Decision Tree: {accuracy_dt * 100:.2f}%\")\n",
        "print(f\"Accuracy for Random Forest: {accuracy_rf * 100:.2f}%\")\n",
        "print(f\"Accuracy for KNN: {accuracy_knn * 100:.2f}%\")\n",
        "print(f\"Best Logistic Regression Model Accuracy: {accuracy * 100:.2f}%\")\n",
        "print(f\"Accuracy for Gaussian Naive Bayes: {accuracy_nb * 100:.2f}%\")"
      ],
      "metadata": {
        "colab": {
          "base_uri": "https://localhost:8080/"
        },
        "id": "SZkc8KQ_ufwg",
        "outputId": "47873e53-ad57-44e9-be06-9ff534f6d3e8"
      },
      "execution_count": null,
      "outputs": [
        {
          "output_type": "stream",
          "name": "stdout",
          "text": [
            "Accuracy for Decision Tree: 83.63%\n",
            "Accuracy for Random Forest: 82.89%\n",
            "Accuracy for KNN: 81.58%\n",
            "Best Logistic Regression Model Accuracy: 89.77%\n",
            "Accuracy for Gaussian Naive Bayes: 78.51%\n"
          ]
        }
      ]
    },
    {
      "cell_type": "code",
      "source": [
        "\n",
        "\n",
        "def recommend_restaurants(user_id, rating_df, geo_df, num_recommendations=5):\n",
        "  \"\"\"Recommends restaurants based on user's past ratings and similar users.\n",
        "\n",
        "  Args:\n",
        "    user_id: The ID of the user for whom recommendations are generated.\n",
        "    rating_df: A DataFrame containing user ratings for restaurants.\n",
        "    geo_df: A DataFrame containing geographical information about restaurants.\n",
        "    num_recommendations: The number of restaurants to recommend.\n",
        "\n",
        "  Returns:\n",
        "    A list of recommended restaurant IDs.\n",
        "  \"\"\"\n",
        "  user_high_ratings = rating_df[(rating_df['userID'] == user_id) & (rating_df['rating'] >= 4)]\n",
        "  if user_high_ratings.empty:\n",
        "    return geo_df['placeID'].sample(n=num_recommendations).tolist()\n",
        "  highly_rated_place_ids = user_high_ratings['placeID'].tolist()\n",
        "  similar_users = rating_df[\n",
        "      (rating_df['placeID'].isin(highly_rated_place_ids)) & (rating_df['rating'] >= 4)\n",
        "  ]['userID'].unique()\n",
        "  recommendations = rating_df[\n",
        "      (rating_df['userID'].isin(similar_users)) &\n",
        "      (~rating_df['placeID'].isin(rating_df[rating_df['userID'] == user_id]['placeID'])) &\n",
        "      (rating_df['rating'] >= 4)\n",
        "  ]['placeID'].value_counts()\n",
        "  return recommendations.head(num_recommendations).index.tolist()\n",
        "\n",
        "\n",
        "import random\n",
        "random_user_id = random.choice(rating['userID'].unique())\n",
        "\n",
        "# Generate recommendations for the random user\n",
        "recommendations = recommend_restaurants(random_user_id, rating, geo)\n",
        "\n",
        "# Print the recommendations\n",
        "print(f\"Recommendations for user {random_user_id}: {recommendations}\")"
      ],
      "metadata": {
        "colab": {
          "base_uri": "https://localhost:8080/"
        },
        "id": "JXzDUz7MvlX-",
        "outputId": "f8d81b2e-0c31-48e0-a38d-e526c887227d"
      },
      "execution_count": null,
      "outputs": [
        {
          "output_type": "stream",
          "name": "stdout",
          "text": [
            "Recommendations for user U1129: [132717, 132866, 135044, 132767, 135013]\n"
          ]
        }
      ]
    },
    {
      "cell_type": "code",
      "source": [
        "# prompt:  Compute the Euclidean distance between restaurants based on attributes\n",
        "\n",
        "def euclidean_distance(restaurant1, restaurant2, features):\n",
        "  \"\"\"Calculates the Euclidean distance between two restaurants based on selected features.\n",
        "\n",
        "  Args:\n",
        "    restaurant1: A Pandas Series representing the first restaurant's data.\n",
        "    restaurant2: A Pandas Series representing the second restaurant's data.\n",
        "    features: A list of feature names to consider for distance calculation.\n",
        "\n",
        "  Returns:\n",
        "    The Euclidean distance between the two restaurants.\n",
        "  \"\"\"\n",
        "  distance = np.sqrt(np.sum([(restaurant1[feature] - restaurant2[feature])**2 for feature in features]))\n",
        "  return distance\n",
        "\n",
        "# Example usage:\n",
        "# Assuming 'X' is your DataFrame containing restaurant data with 'food_rating', 'service_rating', etc.\n",
        "\n",
        "restaurant_a = X.iloc[0]  # Replace with the restaurant you want\n",
        "restaurant_b = X.iloc[1]  # Replace with the other restaurant you want\n",
        "\n",
        "features_to_use = ['food_rating', 'service_rating']  # Choose your features\n",
        "\n",
        "distance_between_restaurants = euclidean_distance(restaurant_a, restaurant_b, features_to_use)\n",
        "\n",
        "print(f\"Euclidean Distance between Restaurant A and Restaurant B: {distance_between_restaurants}\")"
      ],
      "metadata": {
        "colab": {
          "base_uri": "https://localhost:8080/"
        },
        "id": "fJjxMIzIwgC2",
        "outputId": "c5b56218-6844-4ae5-804d-b10b8c88c776"
      },
      "execution_count": null,
      "outputs": [
        {
          "output_type": "stream",
          "name": "stdout",
          "text": [
            "Euclidean Distance between Restaurant A and Restaurant B: 1.0\n"
          ]
        }
      ]
    },
    {
      "cell_type": "code",
      "source": [
        "# prompt: # prompt: Recommend restaurants with the smallest distance from those the user likes\n",
        "# def recommend_restaurants_by_distance(user_id, rating_df, distance_df, merged_df, top_n=5):\n",
        "#     # Find restaurants rated highly by the user\n",
        "#     user_ratings = rating_df[rating_df['userID'] == user_id]\n",
        "#     liked_restaurants = user_ratings[user_ratings['rating'] >= 4]['placeID'].tolist()\n",
        "#     if not liked_restaurants:\n",
        "#         # If the user hasn't rated any restaurants highly, recommend random restaurants\n",
        "#         return merged_df['placeID'].sample(n=top_n).tolist()\n",
        "#     recommended_restaurants = []\n",
        "#     for restaurant_id in liked_restaurants:\n",
        "#         # Find restaurants with the smallest distance to the liked restaurants\n",
        "#         similar_restaurants = distance_df[restaurant_id].sort_values(ascending=True)[1:top_n+1].index.tolist()\n",
        "#         recommended_restaurants.extend(similar_restaurants)\n",
        "#     # Remove duplicates and limit to top_n\n",
        "#     recommended_restaurants = list(dict.fromkeys(recommended_restaurants))\n",
        "\n",
        "def recommend_restaurants_by_distance(user_id, rating_df, distance_df, merged_df, top_n=5):\n",
        "    \"\"\"Recommends restaurants based on distance to those the user likes.\n",
        "\n",
        "    Args:\n",
        "        user_id: The ID of the user for whom recommendations are generated.\n",
        "        rating_df: A DataFrame containing user ratings for restaurants.\n",
        "        distance_df: A DataFrame containing pairwise distances between restaurants.\n",
        "        merged_df: A DataFrame containing information about restaurants and ratings.\n",
        "        top_n: The number of restaurants to recommend.\n",
        "\n",
        "    Returns:\n",
        "        A list of recommended restaurant IDs.\n",
        "    \"\"\"\n",
        "    # Find restaurants rated highly by the user\n",
        "    user_ratings = rating_df[rating_df['userID'] == user_id]\n",
        "    liked_restaurants = user_ratings[user_ratings['rating'] >= 4]['placeID'].tolist()\n",
        "\n",
        "    if not liked_restaurants:\n",
        "        # If the user hasn't rated any restaurants highly, recommend random restaurants\n",
        "        return merged_df['placeID'].sample(n=top_n).tolist()\n",
        "\n",
        "    recommended_restaurants = []\n",
        "    for restaurant_id in liked_restaurants:\n",
        "        # Find restaurants with the smallest distance to the liked restaurants\n",
        "        try:\n",
        "            similar_restaurants = distance_df[restaurant_id].sort_values(ascending=True)[1:top_n+1].index.tolist()\n",
        "            recommended_restaurants.extend(similar_restaurants)\n",
        "        except KeyError:\n",
        "            # Handle cases where a restaurant might not have distance information\n",
        "            pass\n",
        "\n",
        "    # Remove duplicates and limit to top_n\n",
        "    recommended_restaurants = list(dict.fromkeys(recommended_restaurants))[:top_n]\n",
        "    return recommended_restaurants\n",
        "\n"
      ],
      "metadata": {
        "id": "gMssNccbwrkl"
      },
      "execution_count": null,
      "outputs": []
    },
    {
      "cell_type": "code",
      "source": [
        "# prompt: import random for rcommend restaurant by distance\n",
        "\n",
        "def recommend_restaurants_by_distance(user_id, rating_df, geo_df, merged_df, top_n=5):\n",
        "    \"\"\"Recommends restaurants based on distance to those the user likes.\n",
        "\n",
        "    Args:\n",
        "        user_id: The ID of the user for whom recommendations are generated.\n",
        "        rating_df: A DataFrame containing user ratings for restaurants.\n",
        "        geo_df: A DataFrame containing geographical information about restaurants.\n",
        "        merged_df: A DataFrame containing information about restaurants and ratings.\n",
        "        top_n: The number of restaurants to recommend.\n",
        "\n",
        "    Returns:\n",
        "        A list of recommended restaurant IDs.\n",
        "    \"\"\"\n",
        "    # Find restaurants rated highly by the user\n",
        "    user_ratings = rating_df[rating_df['userID'] == user_id]\n",
        "    liked_restaurants = user_ratings[user_ratings['rating'] >= 4]['placeID'].tolist()\n",
        "\n",
        "    if not liked_restaurants:\n",
        "        # If the user hasn't rated any restaurants highly, recommend random restaurants\n",
        "        return geo_df['placeID'].sample(n=top_n).tolist()\n",
        "\n",
        "    recommended_restaurants = []\n",
        "    for liked_restaurant_id in liked_restaurants:\n",
        "        # Find the latitude and longitude of the liked restaurant\n",
        "        liked_restaurant_lat = geo_df[geo_df['placeID'] == liked_restaurant_id]['latitude'].iloc[0]\n",
        "        liked_restaurant_lng = geo_df[geo_df['placeID'] == liked_restaurant_id]['longitude'].iloc[0]\n",
        "\n",
        "        # Calculate distances to other restaurants\n",
        "        geo_df['distance'] = ((geo_df['latitude'] - liked_restaurant_lat) ** 2 + (geo_df['longitude'] - liked_restaurant_lng) ** 2) ** 0.5\n",
        "\n",
        "        # Find restaurants with the smallest distance to the liked restaurants\n",
        "        nearest_restaurants = geo_df.sort_values('distance').head(top_n + 1)  # +1 to account for the liked restaurant itself\n",
        "        nearest_restaurant_ids = [\n",
        "            place_id for place_id in nearest_restaurants['placeID'].tolist()\n",
        "            if place_id != liked_restaurant_id and place_id not in user_ratings['placeID'].tolist()\n",
        "        ]\n",
        "        recommended_restaurants.extend(nearest_restaurant_ids)\n",
        "\n",
        "        # Remove duplicates and limit to top_n\n",
        "        recommended_restaurants = list(dict.fromkeys(recommended_restaurants))[:top_n]\n",
        "\n",
        "    return recommended_restaurants\n",
        "\n",
        "\n",
        "random_user_id = random.choice(rating['userID'].unique())\n",
        "recommendations = recommend_restaurants_by_distance(random_user_id, rating, geo, merged_df)\n",
        "print(f\"Recommendations for user {random_user_id} based on distance: {recommendations}\")"
      ],
      "metadata": {
        "colab": {
          "base_uri": "https://localhost:8080/"
        },
        "id": "sC6rkTHXw5oS",
        "outputId": "1ffc99bc-f639-48f4-d81e-b49df534de99"
      },
      "execution_count": null,
      "outputs": [
        {
          "output_type": "stream",
          "name": "stdout",
          "text": [
            "Recommendations for user U1055 based on distance: [135043, 134999, 132861, 132884, 135028]\n"
          ]
        }
      ]
    },
    {
      "cell_type": "code",
      "source": [
        "# prompt: # Compute cosine similarity\n",
        "\n",
        "def cosine_similarity(vector1, vector2):\n",
        "  \"\"\"Calculates the cosine similarity between two vectors.\n",
        "\n",
        "  Args:\n",
        "    vector1: The first vector.\n",
        "    vector2: The second vector.\n",
        "\n",
        "  Returns:\n",
        "    The cosine similarity between the two vectors.\n",
        "  \"\"\"\n",
        "  dot_product = np.dot(vector1, vector2)\n",
        "  magnitude_vector1 = np.linalg.norm(vector1)\n",
        "  magnitude_vector2 = np.linalg.norm(vector2)\n",
        "  if magnitude_vector1 == 0 or magnitude_vector2 == 0:\n",
        "    return 0\n",
        "  cosine_similarity = dot_product / (magnitude_vector1 * magnitude_vector2)\n",
        "  return cosine_similarity\n",
        "\n",
        "# Example usage\n",
        "vector_a = np.array([1, 2, 3])\n",
        "vector_b = np.array([4, 5, 6])\n",
        "similarity = cosine_similarity(vector_a, vector_b)\n",
        "print(f\"Cosine similarity between vector A and vector B: {similarity}\")\n",
        "\n",
        "# Example usage with restaurant data\n",
        "# Assume 'X' is a dataframe with features for restaurants, and you want to compare two restaurants\n",
        "\n",
        "restaurant_a_features = X.iloc[0][['food_rating', 'service_rating']] # Replace with your features\n",
        "restaurant_b_features = X.iloc[1][['food_rating', 'service_rating']] # Replace with your features\n",
        "\n",
        "similarity_restaurants = cosine_similarity(restaurant_a_features, restaurant_b_features)\n",
        "\n",
        "print(f\"Cosine similarity between Restaurant A and Restaurant B: {similarity_restaurants}\")"
      ],
      "metadata": {
        "colab": {
          "base_uri": "https://localhost:8080/"
        },
        "id": "sOVzb5ggxC_P",
        "outputId": "dc65c2be-c2de-4b98-8274-296cc861d93b"
      },
      "execution_count": null,
      "outputs": [
        {
          "output_type": "stream",
          "name": "stdout",
          "text": [
            "Cosine similarity between vector A and vector B: 0.9746318461970762\n",
            "Cosine similarity between Restaurant A and Restaurant B: 0.9486832980505138\n"
          ]
        }
      ]
    },
    {
      "cell_type": "code",
      "source": [
        "# prompt: Use KNN to recommend the top K similar restaurants based on user preferences Short this\n",
        "\n",
        "def recommend_restaurants_knn(user_id, rating_df, merged_df, k=5):\n",
        "  \"\"\"Recommends restaurants based on KNN using user preferences.\n",
        "\n",
        "  Args:\n",
        "    user_id: The ID of the user for whom recommendations are generated.\n",
        "    rating_df: A DataFrame containing user ratings for restaurants.\n",
        "    merged_df: A DataFrame containing information about restaurants and ratings.\n",
        "    k: The number of similar restaurants to recommend.\n",
        "\n",
        "  Returns:\n",
        "    A list of recommended restaurant IDs.\n",
        "  \"\"\"\n",
        "  # Find restaurants rated highly by the user\n",
        "  user_ratings = rating_df[rating_df['userID'] == user_id]\n",
        "  liked_restaurants = user_ratings[user_ratings['rating'] >= 4]['placeID'].tolist()\n",
        "\n",
        "  if not liked_restaurants:\n",
        "      # If the user hasn't rated any restaurants highly, recommend random restaurants\n",
        "      return merged_df['placeID'].sample(n=k).tolist()\n",
        "\n",
        "  # Create a feature matrix from merged_df (e.g., using food_rating, service_rating, etc.)\n",
        "  features = merged_df[['food_rating', 'service_rating']]  # Choose your features\n",
        "\n",
        "  # Find the nearest neighbors for each liked restaurant using KNN\n",
        "  recommended_restaurants = []\n",
        "  for restaurant_id in liked_restaurants:\n",
        "    # Find the row in 'features' for the current restaurant\n",
        "    current_restaurant = features[merged_df['placeID'] == restaurant_id]\n",
        "\n",
        "    # If the restaurant is not found in the feature matrix, skip it\n",
        "    if current_restaurant.empty:\n",
        "      continue\n",
        "\n",
        "    # Calculate the Euclidean distance between the current restaurant and all other restaurants\n",
        "    distances = features.apply(lambda row: np.linalg.norm(row - current_restaurant.iloc[0]), axis=1)\n",
        "\n",
        "    # Sort the distances in ascending order and get the indices of the k nearest neighbors\n",
        "    nearest_neighbors = distances.sort_values().head(k + 1).index\n",
        "\n",
        "    # Convert the indices to restaurant IDs\n",
        "    for index in nearest_neighbors:\n",
        "        neighbor_restaurant_id = merged_df.loc[index, 'placeID']\n",
        "        if neighbor_restaurant_id != restaurant_id and neighbor_restaurant_id not in recommended_restaurants:\n",
        "            recommended_restaurants.append(neighbor_restaurant_id)\n",
        "\n",
        "  # Limit to the top k recommendations\n",
        "  recommended_restaurants = recommended_restaurants[:k]\n",
        "  return recommended_restaurants\n",
        "\n",
        "# Example usage:\n",
        "# Assuming you have 'rating', 'geo', and 'merged_df' DataFrames\n",
        "\n",
        "random_user_id = random.choice(rating['userID'].unique())\n",
        "recommendations = recommend_restaurants_knn(random_user_id, rating, merged_df)\n",
        "print(f\"Recommendations for user {random_user_id} using KNN: {recommendations}\")"
      ],
      "metadata": {
        "colab": {
          "base_uri": "https://localhost:8080/"
        },
        "id": "n_i08UB5xX0l",
        "outputId": "0c8628f7-4ba5-4fcd-b741-5f1cf3ccebe7"
      },
      "execution_count": null,
      "outputs": [
        {
          "output_type": "stream",
          "name": "stdout",
          "text": [
            "Recommendations for user U1005 using KNN: [135028, 135038, 135058, 135001, 135106]\n"
          ]
        }
      ]
    },
    {
      "cell_type": "code",
      "source": [
        "# prompt: Apply mae,mse\n",
        "\n",
        "from sklearn.metrics import mean_absolute_error, mean_squared_error\n",
        "\n",
        "# Assuming y_test and y_pred_dt are your actual and predicted values for Decision Tree\n",
        "mae_dt = mean_absolute_error(y_test, y_pred_dt)\n",
        "mse_dt = mean_squared_error(y_test, y_pred_dt)\n",
        "\n",
        "print(f\"Mean Absolute Error (MAE) for Decision Tree: {mae_dt}\")\n",
        "print(f\"Mean Squared Error (MSE) for Decision Tree: {mse_dt}\")\n",
        "\n",
        "# Assuming y_test and y_pred_rf are your actual and predicted values for Random Forest\n",
        "mae_rf = mean_absolute_error(y_test, y_pred_rf)\n",
        "mse_rf = mean_squared_error(y_test, y_pred_rf)\n",
        "\n",
        "print(f\"Mean Absolute Error (MAE) for Random Forest: {mae_rf}\")\n",
        "print(f\"Mean Squared Error (MSE) for Random Forest: {mse_rf}\")\n",
        "\n",
        "# Assuming y_test and y_pred_knn are your actual and predicted values for KNN\n",
        "mae_knn = mean_absolute_error(y_test, y_pred_knn)\n",
        "mse_knn = mean_squared_error(y_test, y_pred_knn)\n",
        "\n",
        "print(f\"Mean Absolute Error (MAE) for KNN: {mae_knn}\")\n",
        "print(f\"Mean Squared Error (MSE) for KNN: {mse_knn}\")\n",
        "\n",
        "# Assuming y_test and y_pred are your actual and predicted values for Logistic Regression\n",
        "mae_lr = mean_absolute_error(y_test, y_pred)\n",
        "mse_lr = mean_squared_error(y_test, y_pred)\n",
        "\n",
        "print(f\"Mean Absolute Error (MAE) for Logistic Regression: {mae_lr}\")\n",
        "print(f\"Mean Squared Error (MSE) for Logistic Regression: {mse_lr}\")\n",
        "\n",
        "# Assuming y_test and y_pred are your actual and predicted values for Gaussian Naive Bayes\n",
        "mae_nb = mean_absolute_error(y_test, y_pred)\n",
        "mse_nb = mean_squared_error(y_test, y_pred)\n",
        "\n",
        "print(f\"Mean Absolute Error (MAE) for Gaussian Naive Bayes: {mae_nb}\")\n",
        "print(f\"Mean Squared Error (MSE) for Gaussian Naive Bayes: {mse_nb}\")"
      ],
      "metadata": {
        "colab": {
          "base_uri": "https://localhost:8080/"
        },
        "id": "unJK1vB5xoXY",
        "outputId": "21885ba0-7543-4810-96ad-c2fe8a9c24d6"
      },
      "execution_count": null,
      "outputs": [
        {
          "output_type": "stream",
          "name": "stdout",
          "text": [
            "Mean Absolute Error (MAE) for Decision Tree: 0.20175438596491227\n",
            "Mean Squared Error (MSE) for Decision Tree: 0.2777777777777778\n",
            "Mean Absolute Error (MAE) for Random Forest: 0.21929824561403508\n",
            "Mean Squared Error (MSE) for Random Forest: 0.3157894736842105\n",
            "Mean Absolute Error (MAE) for KNN: 0.24853801169590642\n",
            "Mean Squared Error (MSE) for KNN: 0.37719298245614036\n",
            "Mean Absolute Error (MAE) for Logistic Regression: 0.27046783625730997\n",
            "Mean Squared Error (MSE) for Logistic Regression: 0.3815789473684211\n",
            "Mean Absolute Error (MAE) for Gaussian Naive Bayes: 0.27046783625730997\n",
            "Mean Squared Error (MSE) for Gaussian Naive Bayes: 0.3815789473684211\n"
          ]
        }
      ]
    },
    {
      "cell_type": "code",
      "source": [
        "#collaborative filtering Starting\n",
        "!pip install scikit-surprise\n"
      ],
      "metadata": {
        "id": "CZfceMzNx8VO",
        "colab": {
          "base_uri": "https://localhost:8080/"
        },
        "outputId": "556048cc-8e5d-4b37-aaef-02470118d64b"
      },
      "execution_count": null,
      "outputs": [
        {
          "output_type": "stream",
          "name": "stdout",
          "text": [
            "Collecting scikit-surprise\n",
            "  Downloading scikit_surprise-1.1.4.tar.gz (154 kB)\n",
            "\u001b[?25l     \u001b[90m━━━━━━━━━━━━━━━━━━━━━━━━━━━━━━━━━━━━━━━━\u001b[0m \u001b[32m0.0/154.4 kB\u001b[0m \u001b[31m?\u001b[0m eta \u001b[36m-:--:--\u001b[0m\r\u001b[2K     \u001b[91m━━━━━━━━━━━━━━━━━━━━━━━━━━━━━━━━━━━━━━━\u001b[0m\u001b[91m╸\u001b[0m \u001b[32m153.6/154.4 kB\u001b[0m \u001b[31m5.0 MB/s\u001b[0m eta \u001b[36m0:00:01\u001b[0m\r\u001b[2K     \u001b[90m━━━━━━━━━━━━━━━━━━━━━━━━━━━━━━━━━━━━━━━━\u001b[0m \u001b[32m154.4/154.4 kB\u001b[0m \u001b[31m3.5 MB/s\u001b[0m eta \u001b[36m0:00:00\u001b[0m\n",
            "\u001b[?25h  Installing build dependencies ... \u001b[?25l\u001b[?25hdone\n",
            "  Getting requirements to build wheel ... \u001b[?25l\u001b[?25hdone\n",
            "  Preparing metadata (pyproject.toml) ... \u001b[?25l\u001b[?25hdone\n",
            "Requirement already satisfied: joblib>=1.2.0 in /usr/local/lib/python3.10/dist-packages (from scikit-surprise) (1.4.2)\n",
            "Requirement already satisfied: numpy>=1.19.5 in /usr/local/lib/python3.10/dist-packages (from scikit-surprise) (1.26.4)\n",
            "Requirement already satisfied: scipy>=1.6.0 in /usr/local/lib/python3.10/dist-packages (from scikit-surprise) (1.13.1)\n",
            "Building wheels for collected packages: scikit-surprise\n",
            "  Building wheel for scikit-surprise (pyproject.toml) ... \u001b[?25l\u001b[?25hdone\n",
            "  Created wheel for scikit-surprise: filename=scikit_surprise-1.1.4-cp310-cp310-linux_x86_64.whl size=2357264 sha256=bd0927bc0e3f8da6d24f4af9c09de789c48f0e02edfad44ea5dc5ddc0df79702\n",
            "  Stored in directory: /root/.cache/pip/wheels/4b/3f/df/6acbf0a40397d9bf3ff97f582cc22fb9ce66adde75bc71fd54\n",
            "Successfully built scikit-surprise\n",
            "Installing collected packages: scikit-surprise\n",
            "Successfully installed scikit-surprise-1.1.4\n"
          ]
        }
      ]
    },
    {
      "cell_type": "code",
      "source": [
        "\n",
        "\n",
        "from surprise import KNNBasic\n",
        "from surprise import Dataset, Reader\n",
        "from surprise.model_selection import train_test_split\n",
        "from surprise.accuracy import rmse\n",
        "\n",
        "# Assuming 'merge_output' is your DataFrame with 'userID', 'placeID', and 'rating' columns\n",
        "reader = Reader(rating_scale=(0, 2))  # Adjust rating scale as needed\n",
        "data = Dataset.load_from_df(merged_df[['userID', 'placeID', 'rating']], reader)\n",
        "\n",
        "# Train-test split\n",
        "trainset, testset = train_test_split(data, test_size=0.2, random_state=42)\n",
        "\n",
        "# Use Pearson similarity instead of cosine\n",
        "user_knn = KNNBasic(sim_options={'name': 'pearson', 'user_based': True})\n",
        "user_knn.fit(trainset)\n",
        "\n",
        "# Remove users with fewer than 3 ratings and items with fewer than 3 ratings\n",
        "user_counts = merged_df['userID'].value_counts()\n",
        "item_counts = merged_df['placeID'].value_counts()\n",
        "\n",
        "# Filter dataset\n",
        "filtered_data = merged_df[merged_df['userID'].isin(user_counts[user_counts >= 3].index) &\n",
        "                             merged_df['placeID'].isin(item_counts[item_counts >= 3].index)]\n",
        "\n",
        "from surprise import SVD\n",
        "\n",
        "# Initialize and train SVD model\n",
        "svd_model = SVD()\n",
        "svd_model.fit(trainset)\n",
        "predictions = svd_model.test(testset)\n",
        "\n",
        "# Evaluate accuracy\n",
        "from surprise.accuracy import rmse\n",
        "print(\"SVD RMSE:\", rmse(predictions))\n"
      ],
      "metadata": {
        "colab": {
          "base_uri": "https://localhost:8080/"
        },
        "id": "OF1F559yG4dg",
        "outputId": "017e32eb-e67e-4bf5-ba99-00837c32e55e"
      },
      "execution_count": null,
      "outputs": [
        {
          "output_type": "stream",
          "name": "stdout",
          "text": [
            "Computing the pearson similarity matrix...\n",
            "Done computing similarity matrix.\n",
            "RMSE: 0.3861\n",
            "SVD RMSE: 0.3860614790983621\n"
          ]
        }
      ]
    },
    {
      "cell_type": "code",
      "source": [
        "# Import necessary libraries\n",
        "import pandas as pd\n",
        "from sklearn.model_selection import train_test_split\n",
        "from sklearn.preprocessing import LabelEncoder\n",
        "from surprise import Dataset, Reader, SVD, NMF, KNNBasic\n",
        "from surprise.model_selection import train_test_split as surprise_train_test_split\n",
        "from surprise.accuracy import rmse\n",
        "\n",
        "# Load datasets (assumed to be loaded as 'rating', 'user_profile', 'user_cuisine', and 'geo')\n",
        "# Example: rating = pd.read_csv(\"rating.csv\")\n",
        "\n",
        "# Step 1: Merge DataFrames on relevant keys\n",
        "merged_df = pd.merge(rating, user_profile, on='userID', how='inner')\n",
        "merged_df = pd.merge(merged_df, user_cuisine, on='userID', how='inner')\n",
        "merged_df = pd.merge(merged_df, geo, on='placeID', how='inner')\n",
        "\n",
        "# Step 2: Define features (X) and target variable (y)\n",
        "X = merged_df[['userID', 'placeID']]\n",
        "y = merged_df['rating']\n",
        "\n",
        "# Step 3: Apply Label Encoding to categorical features in X\n",
        "le = LabelEncoder()\n",
        "X['userID'] = le.fit_transform(X['userID'])\n",
        "X['placeID'] = le.fit_transform(X['placeID'])\n",
        "\n",
        "# Step 4: Split the data into training and testing sets\n",
        "X_train, X_test, y_train, y_test = train_test_split(X, y, test_size=0.2, random_state=42)\n",
        "\n",
        "# Print shapes of train and test sets\n",
        "print(\"X_train shape:\", X_train.shape)\n",
        "print(\"X_test shape:\", X_test.shape)\n",
        "print(\"y_train shape:\", y_train.shape)\n",
        "print(\"y_test shape:\", y_test.shape)\n",
        "\n",
        "# Step 5: Prepare the data for Surprise library (rating-scale 0 to 2 as assumed range)\n",
        "merge_output = merged_df[['userID', 'placeID', 'rating']]\n",
        "reader = Reader(rating_scale=(0, 2))\n",
        "data = Dataset.load_from_df(merge_output[['userID', 'placeID', 'rating']], reader)\n",
        "\n",
        "# Split data into train and test for collaborative filtering models\n",
        "trainset, testset = surprise_train_test_split(data, test_size=0.2, random_state=42)\n",
        "\n",
        "# Step 6: Define and Train Models\n",
        "\n",
        "# 6.1: User-Based Collaborative Filtering (using KNN with Pearson similarity)\n",
        "print(\"User-Based Collaborative Filtering\")\n",
        "user_knn = KNNBasic(sim_options={'name': 'pearson', 'user_based': True, 'min_support': 2})\n",
        "user_knn.fit(trainset)\n",
        "predictions_user_knn = user_knn.test(testset)\n",
        "print(\"User-Based CF RMSE:\", rmse(predictions_user_knn))\n",
        "\n",
        "# 6.2: Item-Based Collaborative Filtering (using KNN with cosine similarity)\n",
        "print(\"Item-Based Collaborative Filtering\")\n",
        "item_knn = KNNBasic(sim_options={'name': 'pearson', 'user_based': False})\n",
        "item_knn.fit(trainset)\n",
        "predictions_item_knn = item_knn.test(testset)\n",
        "print(\"Item-Based CF RMSE:\", rmse(predictions_item_knn))\n",
        "\n",
        "# 6.3: SVD Collaborative Filtering (Matrix Factorization)\n",
        "print(\"SVD Collaborative Filtering\")\n",
        "svd_model = SVD()\n",
        "svd_model.fit(trainset)\n",
        "predictions_svd = svd_model.test(testset)\n",
        "print(\"SVD RMSE:\", rmse(predictions_svd))\n",
        "\n",
        "# 6.4: NMF Collaborative Filtering (Matrix Factorization with Non-Negative Constraints)\n",
        "print(\"NMF Collaborative Filtering\")\n",
        "nmf_model = NMF(n_factors=15, n_epochs=50, random_state=42)\n",
        "nmf_model.fit(trainset)\n",
        "predictions_nmf = nmf_model.test(testset)\n",
        "print(\"NMF RMSE:\", rmse(predictions_nmf))\n",
        "chats\n",
        "# Step 7: Generate Recommendations for a Specific User\n",
        "\n",
        "# Function to get top N recommendations for a user using any model\n",
        "def get_top_n_recommendations(user_id, model, n=5):\n",
        "    all_place_ids = merge_output['placeID'].unique()\n",
        "    rated_items = merge_output[merge_output['userID'] == user_id]['placeID'].values\n",
        "    unrated_items = [item for item in all_place_ids if item not in rated_items]\n",
        "\n",
        "    # Predict ratings for all unrated items\n",
        "    predictions = [model.predict(user_id, item_id) for item_id in unrated_items]\n",
        "    predictions.sort(key=lambda x: x.est, reverse=True)\n",
        "    return [(pred.iid, pred.est) for pred in predictions[:n]]\n",
        "\n",
        "\n",
        "\n",
        "# Example accuracy evaluation printout for collaborative filtering models\n",
        "print(\"\\nModel Accuracy Comparison:\")\n",
        "print(f\"User-Based CF RMSE: {rmse(predictions_user_knn):.4f}\")\n",
        "print(f\"Item-Based CF RMSE: {rmse(predictions_item_knn):.4f}\")\n",
        "print(f\"SVD Model RMSE: {rmse(predictions_svd):.4f}\")\n",
        "print(f\"NMF Model RMSE: {rmse(predictions_nmf):.4f}\")\n"
      ],
      "metadata": {
        "colab": {
          "base_uri": "https://localhost:8080/"
        },
        "id": "t38rJCnZItCA",
        "outputId": "70b719b8-b89c-4256-9371-bcd1f2774aef"
      },
      "execution_count": null,
      "outputs": [
        {
          "output_type": "stream",
          "name": "stdout",
          "text": [
            "X_train shape: (2735, 2)\n",
            "X_test shape: (684, 2)\n",
            "y_train shape: (2735,)\n",
            "y_test shape: (684,)\n",
            "User-Based Collaborative Filtering\n",
            "Computing the pearson similarity matrix...\n",
            "Done computing similarity matrix.\n",
            "RMSE: 0.5119\n",
            "User-Based CF RMSE: 0.5118869973406673\n",
            "Item-Based Collaborative Filtering\n",
            "Computing the pearson similarity matrix...\n",
            "Done computing similarity matrix.\n"
          ]
        },
        {
          "output_type": "stream",
          "name": "stderr",
          "text": [
            "<ipython-input-26-ce6503d11139>:23: SettingWithCopyWarning: \n",
            "A value is trying to be set on a copy of a slice from a DataFrame.\n",
            "Try using .loc[row_indexer,col_indexer] = value instead\n",
            "\n",
            "See the caveats in the documentation: https://pandas.pydata.org/pandas-docs/stable/user_guide/indexing.html#returning-a-view-versus-a-copy\n",
            "  X['userID'] = le.fit_transform(X['userID'])\n",
            "<ipython-input-26-ce6503d11139>:24: SettingWithCopyWarning: \n",
            "A value is trying to be set on a copy of a slice from a DataFrame.\n",
            "Try using .loc[row_indexer,col_indexer] = value instead\n",
            "\n",
            "See the caveats in the documentation: https://pandas.pydata.org/pandas-docs/stable/user_guide/indexing.html#returning-a-view-versus-a-copy\n",
            "  X['placeID'] = le.fit_transform(X['placeID'])\n"
          ]
        },
        {
          "output_type": "stream",
          "name": "stdout",
          "text": [
            "RMSE: 0.4174\n",
            "Item-Based CF RMSE: 0.4174302915943751\n",
            "SVD Collaborative Filtering\n",
            "RMSE: 0.3864\n",
            "SVD RMSE: 0.3864482892423872\n",
            "NMF Collaborative Filtering\n",
            "RMSE: 0.4288\n",
            "NMF RMSE: 0.4288154602048685\n",
            "\n",
            "Model Accuracy Comparison:\n",
            "RMSE: 0.5119\n",
            "User-Based CF RMSE: 0.5119\n",
            "RMSE: 0.4174\n",
            "Item-Based CF RMSE: 0.4174\n",
            "RMSE: 0.3864\n",
            "SVD Model RMSE: 0.3864\n",
            "RMSE: 0.4288\n",
            "NMF Model RMSE: 0.4288\n"
          ]
        }
      ]
    },
    {
      "cell_type": "code",
      "source": [
        "import random\n",
        "\n",
        "user_id = random.choice(merged_df['userID'].unique())  # Replace with actual user ID\n",
        "print(\"Top recommendations using SVD model:\", get_top_n_recommendations(user_id, svd_model, n=5))\n",
        "print(\"Top recommendations using NMF model:\", get_top_n_recommendations(user_id, nmf_model, n=5))"
      ],
      "metadata": {
        "colab": {
          "base_uri": "https://localhost:8080/"
        },
        "id": "O-YvBVJNJCKW",
        "outputId": "bf1d15f1-cccb-4076-91ee-7f599bf9a721"
      },
      "execution_count": null,
      "outputs": [
        {
          "output_type": "stream",
          "name": "stdout",
          "text": [
            "Top recommendations using SVD model: [(135034, 1.6980837318650215), (134986, 1.675778573449369), (135066, 1.6498836759895055), (132862, 1.6332669602344252), (134996, 1.614955908874027)]\n",
            "Top recommendations using NMF model: [(132660, 2), (132717, 2), (132564, 2), (135071, 2), (135034, 2)]\n"
          ]
        }
      ]
    },
    {
      "cell_type": "code",
      "source": [
        "import matplotlib.pyplot as plt\n",
        "import seaborn as sns\n"
      ],
      "metadata": {
        "id": "vaID7yIfKfwn"
      },
      "execution_count": null,
      "outputs": []
    },
    {
      "cell_type": "code",
      "source": [
        "# RMSE values from the collaborative filtering models\n",
        "rmse_values = {\n",
        "    'User-Based CF': rmse(predictions_user_knn),\n",
        "    'Item-Based CF': rmse(predictions_item_knn),\n",
        "    'SVD Model': rmse(predictions_svd),\n",
        "    'NMF Model': rmse(predictions_nmf)\n",
        "}\n",
        "\n",
        "# Plot RMSE Comparison\n",
        "plt.figure(figsize=(8, 5))\n",
        "plt.bar(rmse_values.keys(), rmse_values.values(), color=['skyblue', 'lightgreen', 'salmon', 'plum'])\n",
        "plt.xlabel('Collaborative Filtering Model')\n",
        "plt.ylabel('RMSE')\n",
        "plt.title('RMSE Comparison of Collaborative Filtering Models')\n",
        "plt.show()\n"
      ],
      "metadata": {
        "colab": {
          "base_uri": "https://localhost:8080/",
          "height": 556
        },
        "id": "kksaad-qKhyC",
        "outputId": "4b7ff37e-611f-42b1-f376-18686afc4393"
      },
      "execution_count": null,
      "outputs": [
        {
          "output_type": "stream",
          "name": "stdout",
          "text": [
            "RMSE: 0.5119\n",
            "RMSE: 0.4174\n",
            "RMSE: 0.3864\n",
            "RMSE: 0.4288\n"
          ]
        },
        {
          "output_type": "display_data",
          "data": {
            "text/plain": [
              "<Figure size 800x500 with 1 Axes>"
            ],
            "image/png": "[encoded data removed]"
          },
          "metadata": {}
        }
      ]
    },
    {
      "cell_type": "code",
      "source": [
        "# Define a specific user ID and number of recommendations\n",
        "user_id = 'some_user_id'  # Replace with an actual user ID from your data\n",
        "n_recommendations = 5\n",
        "\n",
        "# Get top N recommendations for this user using the SVD model\n",
        "recommendations = get_top_n_recommendations(user_id, svd_model, n=n_recommendations)\n",
        "\n",
        "# Separate items and predicted ratings\n",
        "items = [rec[0] for rec in recommendations]\n",
        "predicted_ratings = [rec[1] for rec in recommendations]\n",
        "\n",
        "# Plot Top-N Recommendations\n",
        "plt.figure(figsize=(10, 5))\n",
        "sns.barplot(x=items, y=predicted_ratings, palette='viridis')\n",
        "plt.xlabel('Recommended Item (placeID)')\n",
        "plt.ylabel('Predicted Rating')\n",
        "plt.title(f'Top {n_recommendations} Recommendations for User {user_id}')\n",
        "plt.show()\n"
      ],
      "metadata": {
        "colab": {
          "base_uri": "https://localhost:8080/",
          "height": 594
        },
        "id": "R2UXc3duKj0g",
        "outputId": "2ba7b580-7b10-460f-cd06-de6741d701fb"
      },
      "execution_count": null,
      "outputs": [
        {
          "output_type": "stream",
          "name": "stderr",
          "text": [
            "<ipython-input-30-657fdcabe021>:14: FutureWarning: \n",
            "\n",
            "Passing `palette` without assigning `hue` is deprecated and will be removed in v0.14.0. Assign the `x` variable to `hue` and set `legend=False` for the same effect.\n",
            "\n",
            "  sns.barplot(x=items, y=predicted_ratings, palette='viridis')\n"
          ]
        },
        {
          "output_type": "display_data",
          "data": {
            "text/plain": [
              "<Figure size 1000x500 with 1 Axes>"
            ],
            "image/png": "[encoded data removed]"
          },
          "metadata": {}
        }
      ]
    },
    {
      "cell_type": "code",
      "source": [
        "# Collect all predicted ratings for SVD model in the test set\n",
        "predicted_ratings_svd = [pred.est for pred in predictions_svd]\n",
        "\n",
        "# Plot Distribution of Predicted Ratings\n",
        "plt.figure(figsize=(8, 5))\n",
        "sns.histplot(predicted_ratings_svd, bins=20, color='steelblue', kde=True)\n",
        "plt.xlabel('Predicted Rating')\n",
        "plt.ylabel('Frequency')\n",
        "plt.title('Distribution of Predicted Ratings (SVD Model)')\n",
        "plt.show()\n"
      ],
      "metadata": {
        "id": "O7ICK1_ZKmRh",
        "outputId": "b61bfc1e-9a6d-412d-96b2-405febc1008b",
        "colab": {
          "base_uri": "https://localhost:8080/",
          "height": 487
        }
      },
      "execution_count": null,
      "outputs": [
        {
          "output_type": "display_data",
          "data": {
            "text/plain": [
              "<Figure size 800x500 with 1 Axes>"
            ],
            "image/png": "[encoded data removed]"
          },
          "metadata": {}
        }
      ]
    }
  ]
}